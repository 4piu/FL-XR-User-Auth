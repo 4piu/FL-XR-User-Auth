{
 "cells": [
  {
   "cell_type": "code",
   "execution_count": 1,
   "id": "c48c7845",
   "metadata": {},
   "outputs": [],
   "source": [
    "# Dataset parameters\n",
    "SAMPLE_NUM = 50 # Number of participants to downsample to\n",
    "RNG_SEED = 42 # Random seed for reproducibility\n",
    "\n",
    "# Dask parameters\n",
    "PARTITION_SIZE = \"100M\" # Chunk size for Dask operations\n",
    "DASK_N_WORKERS = 1 # Number of Dask workers to use\n",
    "DASK_THREADS_PER_WORKER = 1 # Number of threads per Dask worker\n",
    "DASK_MEMORY_LIMIT = '6G' # Memory limit"
   ]
  },
  {
   "cell_type": "code",
   "execution_count": 2,
   "id": "06a7c274",
   "metadata": {},
   "outputs": [
    {
     "name": "stderr",
     "output_type": "stream",
     "text": [
      "2025-04-17 22:07:28,366 - distributed.shuffle._scheduler_plugin - WARNING - Shuffle 2b43d7499154c94e20abd1bcde76b900 initialized by task ('shuffle-transfer-2b43d7499154c94e20abd1bcde76b900', 5) executed on worker tcp://127.0.0.1:46605\n",
      "2025-04-17 22:07:34,452 - distributed.shuffle._scheduler_plugin - WARNING - Shuffle 24b27fc746b8e6d0f17bd38c1c6fb23e initialized by task ('shuffle-transfer-24b27fc746b8e6d0f17bd38c1c6fb23e', 9) executed on worker tcp://127.0.0.1:46605\n",
      "2025-04-17 22:07:36,681 - distributed.shuffle._scheduler_plugin - WARNING - Shuffle 2b43d7499154c94e20abd1bcde76b900 deactivated due to stimulus 'task-finished-1744942056.6796644'\n",
      "2025-04-17 22:07:37,194 - distributed.shuffle._scheduler_plugin - WARNING - Shuffle 24b27fc746b8e6d0f17bd38c1c6fb23e deactivated due to stimulus 'task-finished-1744942057.1920915'\n",
      "2025-04-17 22:08:04,828 - distributed.shuffle._scheduler_plugin - WARNING - Shuffle de125fc14ef14fc4ccf3e326b9467da3 initialized by task ('shuffle-transfer-de125fc14ef14fc4ccf3e326b9467da3', 35) executed on worker tcp://127.0.0.1:46605\n",
      "2025-04-17 22:08:55,807 - distributed.shuffle._scheduler_plugin - WARNING - Shuffle de125fc14ef14fc4ccf3e326b9467da3 deactivated due to stimulus 'task-finished-1744942135.8056614'\n"
     ]
    }
   ],
   "source": [
    "# Set Dask client (workaround for WSL)\n",
    "from dask.distributed import Client\n",
    "\n",
    "client = Client(\n",
    "    n_workers=DASK_N_WORKERS,\n",
    "    threads_per_worker=DASK_THREADS_PER_WORKER,\n",
    "    memory_limit=DASK_MEMORY_LIMIT,\n",
    "    processes=True,\n",
    ")"
   ]
  },
  {
   "cell_type": "code",
   "execution_count": 3,
   "id": "c088324d",
   "metadata": {},
   "outputs": [
    {
     "name": "stdout",
     "output_type": "stream",
     "text": [
      "Number of partitions: 36\n"
     ]
    }
   ],
   "source": [
    "import dask.dataframe as dd\n",
    "\n",
    "# Load the dataset using Dask with specified dtypes, filter task PUR\n",
    "ddf = dd.read_parquet(\n",
    "    \"dataset/gazebasevr.parquet\", filters=[(\"task\", \"=\", 2)]\n",
    ")\n",
    "ddf = ddf.repartition(partition_size=PARTITION_SIZE)\n",
    "ddf = ddf.shuffle(on=\"participant\")\n",
    "\n",
    "# Print partition information\n",
    "print(f\"Number of partitions: {ddf.npartitions}\")"
   ]
  },
  {
   "cell_type": "code",
   "execution_count": 4,
   "id": "d3646e4d",
   "metadata": {},
   "outputs": [],
   "source": [
    "import json\n",
    "import numpy as np\n",
    "\n",
    "# Randomly sample some participants from the dataset\n",
    "# Set random seed for reproducibility\n",
    "np.random.seed(RNG_SEED)\n",
    "participants = set(np.random.choice(ddf[\"participant\"].unique(), SAMPLE_NUM, replace=False))\n",
    "\n",
    "# Save the selected participants to a file\n",
    "with open(\"dataset/gazebasevr_filtered.json\", \"w\") as f:\n",
    "    json.dump(\n",
    "        {\n",
    "            \"participants\": list(map(int, participants)),  # Convert np.int16 to int for JSON serialization\n",
    "            \"task\": 2,\n",
    "            \"task_name\": \"PUR\",\n",
    "            \"sample_num\": SAMPLE_NUM,\n",
    "            \"rng_seed\": RNG_SEED,\n",
    "        },\n",
    "        f,\n",
    "    )"
   ]
  },
  {
   "cell_type": "code",
   "execution_count": 6,
   "id": "5503c665",
   "metadata": {},
   "outputs": [],
   "source": [
    "# Filter the Dask DataFrame to only include the selected participants\n",
    "ddf = ddf.map_partitions(lambda df: df[df[\"participant\"].isin(participants)])\n",
    "\n",
    "# Save to one parquet file\n",
    "ddf.repartition(npartitions=1).to_parquet(\n",
    "    \"dataset/gazebasevr_filtered.parquet\",\n",
    "    write_index=False\n",
    ")"
   ]
  }
 ],
 "metadata": {
  "kernelspec": {
   "display_name": "venv",
   "language": "python",
   "name": "python3"
  },
  "language_info": {
   "codemirror_mode": {
    "name": "ipython",
    "version": 3
   },
   "file_extension": ".py",
   "mimetype": "text/x-python",
   "name": "python",
   "nbconvert_exporter": "python",
   "pygments_lexer": "ipython3",
   "version": "3.13.3"
  }
 },
 "nbformat": 4,
 "nbformat_minor": 5
}
