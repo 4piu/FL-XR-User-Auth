{
 "cells": [
  {
   "cell_type": "markdown",
   "id": "12735c8d",
   "metadata": {},
   "source": [
    "## Description of the dataset\n",
    "\n",
    "| Column header | Unit of measure | Description |\n",
    "|---------------|-----------------|-------------|\n",
    "| n            | ms             | Timestamp of the recorded gaze sample since the beginning of the recording |\n",
    "| x            | dva            | $\\theta_h$ for the cyclopean eye |\n",
    "| y            | dva            | $\\theta_v$ for the cyclopean eye |\n",
    "| lx           | dva            | $\\theta_h$ for the left eye |\n",
    "| ly           | dva            | $\\theta_v$ for the left eye |\n",
    "| rx           | dva            | $\\theta_h$ for the right eye |\n",
    "| ry           | dva            | $\\theta_v$ for the right eye |\n",
    "| xT*          | dva            | $\\theta_h$ for the stimulus, relative to the cyclopean eye |\n",
    "| yT*          | dva            | $\\theta_v$ for the stimulus, relative to the cyclopean eye |\n",
    "| zT           | m              | Depth of the stimulus |\n",
    "| clx          | m              | X position of the center of the left eyeball, relative to the camera origin |\n",
    "| cly          | m              | Y position of the center of the left eyeball, relative to the camera origin |\n",
    "| clz          | m              | Z position of the center of the left eyeball, relative to the camera origin |\n",
    "| crx          | m              | X position of the center of the right eyeball, relative to the camera origin |\n",
    "| cry          | m              | Y position of the center of the right eyeball, relative to the camera origin |\n",
    "| crz          | m              | Z position of the center of the right eyeball, relative to the camera origin |\n",
    "| round        |                | recording round (1-3) |\n",
    "| participant  |                | participant ID (001-465) |\n",
    "| session      |                | recording session (1-2) |\n",
    "| task         |                | task category (1-5) |"
   ]
  },
  {
   "cell_type": "code",
   "execution_count": 1,
   "id": "f4cd2bb2",
   "metadata": {},
   "outputs": [],
   "source": [
    "# Dataset parameters\n",
    "COL_TO_DROP = [\"round\", \"session\", \"task\", \"xT\", \"yT\", \"zT\"]"
   ]
  },
  {
   "cell_type": "code",
   "execution_count": 2,
   "id": "08909300",
   "metadata": {},
   "outputs": [
    {
     "name": "stdout",
     "output_type": "stream",
     "text": [
      "Number of records: 4862282\n"
     ]
    }
   ],
   "source": [
    "import pandas as pd\n",
    "\n",
    "# Import filtered dataset\n",
    "df = pd.read_parquet(\n",
    "    \"dataset/gazebasevr_filtered.parquet\"\n",
    ")\n",
    "\n",
    "# Print number of records\n",
    "print(f\"Number of records: {df.shape[0]}\")"
   ]
  },
  {
   "cell_type": "code",
   "execution_count": 3,
   "id": "8b8a63dc",
   "metadata": {},
   "outputs": [],
   "source": [
    "# Drop unnecessary columns\n",
    "df = df.drop(columns=COL_TO_DROP)"
   ]
  },
  {
   "cell_type": "code",
   "execution_count": 4,
   "id": "6f4efffb",
   "metadata": {},
   "outputs": [],
   "source": [
    "# For each participant, fill missing data with linear interpolation (bidirectional)\n",
    "df_numeric = df.select_dtypes(include=\"number\")\n",
    "\n",
    "df[df_numeric.columns] = df.groupby(\"participant\")[df_numeric.columns].transform(\n",
    "    lambda group: group.interpolate(method=\"linear\", limit_direction=\"both\")\n",
    ")"
   ]
  },
  {
   "cell_type": "code",
   "execution_count": 5,
   "id": "3313a652",
   "metadata": {},
   "outputs": [],
   "source": [
    "# Calculate differences between left and right eye angles\n",
    "df[\"dx\"] = df[\"lx\"] - df[\"rx\"]\n",
    "df[\"dy\"] = df[\"ly\"] - df[\"ry\"]\n",
    "\n",
    "# Compute the first and second derivatives of gaze angles (x, y, lx, ly, rx, ry) with respect to time (n)\n",
    "# Compute the first derivatives\n",
    "for col in [\"x\", \"y\", \"lx\", \"ly\", \"rx\", \"ry\"]:\n",
    "    df[f\"{col}_d1\"] = df.groupby(\"participant\")[col].diff() / df.groupby(\"participant\")[\"n\"].diff()\n",
    "\n",
    "# Compute the second derivatives\n",
    "for col in [\"x\", \"y\", \"lx\", \"ly\", \"rx\", \"ry\"]:\n",
    "    df[f\"{col}_d2\"] = df.groupby(\"participant\")[f\"{col}_d1\"].diff() / df.groupby(\"participant\")[\"n\"].diff()\n",
    "\n",
    "# Compute inter-eye distance\n",
    "df[\"ied\"] = ((df[\"clx\"] - df[\"crx\"])**2 + (df[\"cly\"] - df[\"cry\"])**2 + (df[\"clz\"] - df[\"crz\"])**2)**0.5\n",
    "\n",
    "# Drop NaN rows\n",
    "df = df.dropna()"
   ]
  },
  {
   "cell_type": "code",
   "execution_count": 6,
   "id": "def28b63",
   "metadata": {},
   "outputs": [],
   "source": [
    "# Normalize data columns (min-max normalization)\n",
    "blacklist = [\"participant\", \"n\", \"ied\"]\n",
    "\n",
    "columns_to_normalize = [col for col in df.columns if col not in blacklist]\n",
    "df[columns_to_normalize] = df[columns_to_normalize].apply(\n",
    "    lambda x: (x - x.min()) / (x.max() - x.min())\n",
    ")"
   ]
  },
  {
   "cell_type": "code",
   "execution_count": 7,
   "id": "de1227c7",
   "metadata": {},
   "outputs": [],
   "source": [
    "# Save the modified DataFrame to a new Parquet file\n",
    "df.to_parquet(\n",
    "    \"dataset/gazebasevr_processed.parquet\",\n",
    "    index=False\n",
    ")"
   ]
  }
 ],
 "metadata": {
  "kernelspec": {
   "display_name": "venv",
   "language": "python",
   "name": "python3"
  },
  "language_info": {
   "codemirror_mode": {
    "name": "ipython",
    "version": 3
   },
   "file_extension": ".py",
   "mimetype": "text/x-python",
   "name": "python",
   "nbconvert_exporter": "python",
   "pygments_lexer": "ipython3",
   "version": "3.13.3"
  }
 },
 "nbformat": 4,
 "nbformat_minor": 5
}
